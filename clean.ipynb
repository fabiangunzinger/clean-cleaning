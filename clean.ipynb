{
 "cells": [
  {
   "cell_type": "markdown",
   "id": "southern-label",
   "metadata": {},
   "source": [
    "Approach\n",
    "- Implement and test steps with datasets from TidyTuesday [repo](https://github.com/rfordatascience/tidytuesday)"
   ]
  },
  {
   "cell_type": "code",
   "execution_count": 3,
   "id": "sonic-student",
   "metadata": {},
   "outputs": [],
   "source": [
    "import pandas as pd"
   ]
  },
  {
   "cell_type": "markdown",
   "id": "native-wisconsin",
   "metadata": {},
   "source": [
    "# Import"
   ]
  },
  {
   "cell_type": "code",
   "execution_count": 32,
   "id": "historical-filing",
   "metadata": {},
   "outputs": [
    {
     "name": "stdout",
     "output_type": "stream",
     "text": [
      "True\n",
      "dict_values([['str', 'idnum'], ['str', 'artist']])\n"
     ]
    },
    {
     "data": {
      "text/html": [
       "<div>\n",
       "<style scoped>\n",
       "    .dataframe tbody tr th:only-of-type {\n",
       "        vertical-align: middle;\n",
       "    }\n",
       "\n",
       "    .dataframe tbody tr th {\n",
       "        vertical-align: top;\n",
       "    }\n",
       "\n",
       "    .dataframe thead th {\n",
       "        text-align: right;\n",
       "    }\n",
       "</style>\n",
       "<table border=\"1\" class=\"dataframe\">\n",
       "  <thead>\n",
       "    <tr style=\"text-align: right;\">\n",
       "      <th></th>\n",
       "      <th>id</th>\n",
       "      <th>artist</th>\n",
       "    </tr>\n",
       "  </thead>\n",
       "  <tbody>\n",
       "    <tr>\n",
       "      <th>0</th>\n",
       "      <td>1035</td>\n",
       "      <td>Blake, Robert</td>\n",
       "    </tr>\n",
       "    <tr>\n",
       "      <th>1</th>\n",
       "      <td>1036</td>\n",
       "      <td>Blake, Robert</td>\n",
       "    </tr>\n",
       "    <tr>\n",
       "      <th>2</th>\n",
       "      <td>1037</td>\n",
       "      <td>Blake, Robert</td>\n",
       "    </tr>\n",
       "    <tr>\n",
       "      <th>3</th>\n",
       "      <td>1038</td>\n",
       "      <td>Blake, Robert</td>\n",
       "    </tr>\n",
       "    <tr>\n",
       "      <th>4</th>\n",
       "      <td>1039</td>\n",
       "      <td>Blake, William</td>\n",
       "    </tr>\n",
       "    <tr>\n",
       "      <th>5</th>\n",
       "      <td>1040</td>\n",
       "      <td>Blake, William</td>\n",
       "    </tr>\n",
       "    <tr>\n",
       "      <th>6</th>\n",
       "      <td>1041</td>\n",
       "      <td>Blake, William</td>\n",
       "    </tr>\n",
       "    <tr>\n",
       "      <th>7</th>\n",
       "      <td>1042</td>\n",
       "      <td>Blake, William</td>\n",
       "    </tr>\n",
       "    <tr>\n",
       "      <th>8</th>\n",
       "      <td>1043</td>\n",
       "      <td>Blake, William</td>\n",
       "    </tr>\n",
       "    <tr>\n",
       "      <th>9</th>\n",
       "      <td>1044</td>\n",
       "      <td>Blake, William</td>\n",
       "    </tr>\n",
       "  </tbody>\n",
       "</table>\n",
       "</div>"
      ],
      "text/plain": [
       "     id          artist\n",
       "0  1035   Blake, Robert\n",
       "1  1036   Blake, Robert\n",
       "2  1037   Blake, Robert\n",
       "3  1038   Blake, Robert\n",
       "4  1039  Blake, William\n",
       "5  1040  Blake, William\n",
       "6  1041  Blake, William\n",
       "7  1042  Blake, William\n",
       "8  1043  Blake, William\n",
       "9  1044  Blake, William"
      ]
     },
     "execution_count": 32,
     "metadata": {},
     "output_type": "execute_result"
    }
   ],
   "source": [
    "fp = 'https://raw.githubusercontent.com/rfordatascience/tidytuesday/master/data/2021/2021-01-12/artwork.csv'\n",
    "\n",
    "def read(fp, **kwargs):\n",
    "    \"\"\"Read data\"\"\"\n",
    "\n",
    "    print(\"usecols\" in kwargs)\n",
    "    \n",
    "    if 'usecols' in kwargs:\n",
    "        print(kwargs['usecols'].values())\n",
    "    \n",
    "    \n",
    "#     dtypes = {key: dtype for key, (dtype, name) in columns.items()}\n",
    "#     newnames = {key: name for key, (dtype, name) in columns.items()}\n",
    "#     df = pd.read_csv(path, usecols=columns, dtype=dtypes, **kwargs)  \n",
    "#     df = df.rename(columns=newnames)\n",
    "    \n",
    "    df = pd.read_csv(fp, **kwargs)\n",
    "    return df\n",
    "\n",
    "\n",
    "columns = {\n",
    "    'id': ['str', 'idnum'],\n",
    "    'artist': ['str', 'artist']\n",
    "}\n",
    "\n",
    "df = read(fp, nrows=10, usecols=columns)\n",
    "df"
   ]
  },
  {
   "cell_type": "code",
   "execution_count": 25,
   "id": "consolidated-contrast",
   "metadata": {},
   "outputs": [
    {
     "name": "stdout",
     "output_type": "stream",
     "text": [
      "<class 'pandas.core.frame.DataFrame'>\n",
      "RangeIndex: 10 entries, 0 to 9\n",
      "Data columns (total 1 columns):\n",
      " #   Column  Non-Null Count  Dtype\n",
      "---  ------  --------------  -----\n",
      " 0   id      10 non-null     int64\n",
      "dtypes: int64(1)\n",
      "memory usage: 208.0 bytes\n"
     ]
    }
   ],
   "source": [
    "df.info()"
   ]
  },
  {
   "cell_type": "markdown",
   "id": "central-database",
   "metadata": {},
   "source": [
    "# Renaming variables"
   ]
  },
  {
   "cell_type": "markdown",
   "id": "secret-fence",
   "metadata": {},
   "source": [
    "## Rationale\n",
    "\n",
    "Why bother with renaming at all? The cost of renaming variables is that someone else who is familiar with the data will have to get familiar with your custom names when engaging with the data. The main benefit is that concise and consistent names can save lots of typing (most clearly but not exclusively in environments with poor or no code completion such as Jupyter notebooks). Renaming is worth in situations where the benefits exceed the cost (e.g. you're working alone, default naming is very poor and chaotic)."
   ]
  },
  {
   "cell_type": "markdown",
   "id": "revised-honey",
   "metadata": {},
   "source": [
    "## Steps involved\n",
    "\n",
    "- Decide on a convention and stick to it (I'm using lowercase underscore separated words)\n",
    "\n",
    "- Convert to lowercase\n",
    "\n",
    "- Replace non-alphanumeric with _\n",
    "\n",
    "- Custom renaming"
   ]
  },
  {
   "cell_type": "markdown",
   "id": "complete-parker",
   "metadata": {},
   "source": [
    "# Export"
   ]
  },
  {
   "cell_type": "code",
   "execution_count": null,
   "id": "hazardous-address",
   "metadata": {},
   "outputs": [],
   "source": []
  }
 ],
 "metadata": {
  "kernelspec": {
   "display_name": "python3.9",
   "language": "python",
   "name": "python3.9"
  },
  "language_info": {
   "codemirror_mode": {
    "name": "ipython",
    "version": 3
   },
   "file_extension": ".py",
   "mimetype": "text/x-python",
   "name": "python",
   "nbconvert_exporter": "python",
   "pygments_lexer": "ipython3",
   "version": "3.7.4"
  }
 },
 "nbformat": 4,
 "nbformat_minor": 5
}
